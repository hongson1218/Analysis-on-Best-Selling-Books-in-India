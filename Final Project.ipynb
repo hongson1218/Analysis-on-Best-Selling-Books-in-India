{
 "cells": [
  {
   "cell_type": "code",
   "execution_count": 1,
   "metadata": {},
   "outputs": [],
   "source": [
    "import pandas as pd\n"
   ]
  },
  {
   "cell_type": "markdown",
   "metadata": {},
   "source": [
    "# Data Cleansing"
   ]
  },
  {
   "cell_type": "code",
   "execution_count": 2,
   "metadata": {},
   "outputs": [],
   "source": [
    "books = pd.read_csv('books.csv')"
   ]
  },
  {
   "cell_type": "code",
   "execution_count": 5,
   "metadata": {},
   "outputs": [],
   "source": [
    "books = books.drop(columns=['country', 'domain', 'gallery', 'image', 'model', 'url', 'weight', 'uniq_id', 'type'])"
   ]
  },
  {
   "cell_type": "code",
   "execution_count": 34,
   "metadata": {},
   "outputs": [
    {
     "data": {
      "text/plain": [
       "'{\"Description\"=>{\"Product Code\"=>\"9780553590487_20567\", \"ISBN-13\"=>\"9780553590487\", \"ISBN-10\"=>\"553590480\", \"Authored By\"=>\"Kay Hooper\", \"Publication Year\"=>\"2007\", \"Imprint\"=>\"Bantam\", \"Binding\"=>\"Others\", \"Languages\"=>\"English\", \"ISBN 13\"=>\"9780553590487\"}, \"Shipping Details\"=>{\"Estimated Arrival\"=>\"8 - 11 days\", \"Return Policy\"=>\"Seller will accept returns within a 15 days from date of delivery of the item\"}}'"
      ]
     },
     "execution_count": 34,
     "metadata": {},
     "output_type": "execute_result"
    }
   ],
   "source": [
    "books_desc = books['desc']\n",
    "books_desc[0]"
   ]
  },
  {
   "cell_type": "code",
   "execution_count": 96,
   "metadata": {},
   "outputs": [],
   "source": [
    "book_parse_desc = []\n",
    "from ast import literal_eval\n",
    "import json\n",
    "for a in books_desc:\n",
    "    r = a.replace('=>', ':')\n",
    "    r = r.replace('{\"Description\":', '')\n",
    "    r = r.replace('{', '')\n",
    "    r = r.replace('}', '')\n",
    "    r = r.replace(\"'\", \"\")\n",
    "    r = r.replace(\"Shipping Details\", '')\n",
    "    r = r.replace(\"Terms & Condition\", '')\n",
    "    r = r.replace(\"Product Details\", '')\n",
    "    r = r.replace(\"Warranty Details\", '')\n",
    "    r = r.replace(\"Description\", '')    \n",
    "    r = r.replace('\"\"' + ':', '')\n",
    "    r = r.replace(' , ', '')\n",
    "    r = \"{\" + r + \"}\"\n",
    "    r = literal_eval(r)\n",
    "    book_parse_desc.append(r)    "
   ]
  },
  {
   "cell_type": "code",
   "execution_count": 98,
   "metadata": {},
   "outputs": [
    {
     "data": {
      "text/plain": [
       "{'Product Code': '9780553590487_20567',\n",
       " 'ISBN-13': '9780553590487',\n",
       " 'ISBN-10': '553590480',\n",
       " 'Authored By': 'Kay Hooper',\n",
       " 'Publication Year': '2007',\n",
       " 'Imprint': 'Bantam',\n",
       " 'Binding': 'Others',\n",
       " 'Languages': 'English',\n",
       " 'ISBN 13': '9780553590487',\n",
       " 'Estimated Arrival': '8 - 11 days',\n",
       " 'Return Policy': 'Seller will accept returns within a 15 days from date of delivery of the item'}"
      ]
     },
     "execution_count": 98,
     "metadata": {},
     "output_type": "execute_result"
    }
   ],
   "source": [
    "book_parse_desc[0]"
   ]
  },
  {
   "cell_type": "code",
   "execution_count": 102,
   "metadata": {},
   "outputs": [],
   "source": [
    "#books_desc\n",
    "books1 = pd.DataFrame(x for x in book_parse_desc)\n"
   ]
  },
  {
   "cell_type": "code",
   "execution_count": 103,
   "metadata": {},
   "outputs": [
    {
     "data": {
      "text/html": [
       "<div>\n",
       "<style scoped>\n",
       "    .dataframe tbody tr th:only-of-type {\n",
       "        vertical-align: middle;\n",
       "    }\n",
       "\n",
       "    .dataframe tbody tr th {\n",
       "        vertical-align: top;\n",
       "    }\n",
       "\n",
       "    .dataframe thead th {\n",
       "        text-align: right;\n",
       "    }\n",
       "</style>\n",
       "<table border=\"1\" class=\"dataframe\">\n",
       "  <thead>\n",
       "    <tr style=\"text-align: right;\">\n",
       "      <th></th>\n",
       "      <th>About the Author</th>\n",
       "      <th>Age</th>\n",
       "      <th>Age wise</th>\n",
       "      <th>Author</th>\n",
       "      <th>Author Info</th>\n",
       "      <th>Authored By</th>\n",
       "      <th>Binding</th>\n",
       "      <th>Brand</th>\n",
       "      <th>Dimensions (L X B X H)</th>\n",
       "      <th>Edited By</th>\n",
       "      <th>...</th>\n",
       "      <th>Return Policy</th>\n",
       "      <th>Series Name</th>\n",
       "      <th>Shipping Charge</th>\n",
       "      <th>Specialization</th>\n",
       "      <th>Type</th>\n",
       "      <th>University</th>\n",
       "      <th>Warranty Summary</th>\n",
       "      <th>Weight</th>\n",
       "      <th>Weight(Gm)</th>\n",
       "      <th>Weight(gm)</th>\n",
       "    </tr>\n",
       "  </thead>\n",
       "  <tbody>\n",
       "    <tr>\n",
       "      <th>0</th>\n",
       "      <td>NaN</td>\n",
       "      <td>NaN</td>\n",
       "      <td>NaN</td>\n",
       "      <td>NaN</td>\n",
       "      <td>NaN</td>\n",
       "      <td>Kay Hooper</td>\n",
       "      <td>Others</td>\n",
       "      <td>NaN</td>\n",
       "      <td>NaN</td>\n",
       "      <td>NaN</td>\n",
       "      <td>...</td>\n",
       "      <td>Seller will accept returns within a 15 days fr...</td>\n",
       "      <td>NaN</td>\n",
       "      <td>NaN</td>\n",
       "      <td>NaN</td>\n",
       "      <td>NaN</td>\n",
       "      <td>NaN</td>\n",
       "      <td>NaN</td>\n",
       "      <td>NaN</td>\n",
       "      <td>NaN</td>\n",
       "      <td>NaN</td>\n",
       "    </tr>\n",
       "    <tr>\n",
       "      <th>1</th>\n",
       "      <td>NaN</td>\n",
       "      <td>NaN</td>\n",
       "      <td>NaN</td>\n",
       "      <td>NaN</td>\n",
       "      <td>NaN</td>\n",
       "      <td>Devaki Nandan Khatri</td>\n",
       "      <td>Paperback</td>\n",
       "      <td>Rupa Publications India</td>\n",
       "      <td>NaN</td>\n",
       "      <td>NaN</td>\n",
       "      <td>...</td>\n",
       "      <td>Seller will accept returns within a 15 days fr...</td>\n",
       "      <td>NaN</td>\n",
       "      <td>NaN</td>\n",
       "      <td>NaN</td>\n",
       "      <td>NaN</td>\n",
       "      <td>NaN</td>\n",
       "      <td>NaN</td>\n",
       "      <td>NaN</td>\n",
       "      <td>NaN</td>\n",
       "      <td>NaN</td>\n",
       "    </tr>\n",
       "    <tr>\n",
       "      <th>2</th>\n",
       "      <td>NaN</td>\n",
       "      <td>NaN</td>\n",
       "      <td>NaN</td>\n",
       "      <td>NaN</td>\n",
       "      <td>NaN</td>\n",
       "      <td>Tami Hoag</td>\n",
       "      <td>Paperback</td>\n",
       "      <td>Random House</td>\n",
       "      <td>NaN</td>\n",
       "      <td>NaN</td>\n",
       "      <td>...</td>\n",
       "      <td>Seller will accept returns within  7 days from...</td>\n",
       "      <td>NaN</td>\n",
       "      <td>NaN</td>\n",
       "      <td>NaN</td>\n",
       "      <td>NaN</td>\n",
       "      <td>NaN</td>\n",
       "      <td>NaN</td>\n",
       "      <td>410 gm</td>\n",
       "      <td>NaN</td>\n",
       "      <td>NaN</td>\n",
       "    </tr>\n",
       "    <tr>\n",
       "      <th>3</th>\n",
       "      <td>NaN</td>\n",
       "      <td>NaN</td>\n",
       "      <td>NaN</td>\n",
       "      <td>NaN</td>\n",
       "      <td>NaN</td>\n",
       "      <td>Danielle Steel</td>\n",
       "      <td>Paperback</td>\n",
       "      <td>Transworld Publishers</td>\n",
       "      <td>NaN</td>\n",
       "      <td>NaN</td>\n",
       "      <td>...</td>\n",
       "      <td>Seller will accept returns within a 15 days fr...</td>\n",
       "      <td>NaN</td>\n",
       "      <td>NaN</td>\n",
       "      <td>NaN</td>\n",
       "      <td>NaN</td>\n",
       "      <td>NaN</td>\n",
       "      <td>NaN</td>\n",
       "      <td>381 gm</td>\n",
       "      <td>NaN</td>\n",
       "      <td>NaN</td>\n",
       "    </tr>\n",
       "    <tr>\n",
       "      <th>4</th>\n",
       "      <td>NaN</td>\n",
       "      <td>NaN</td>\n",
       "      <td>NaN</td>\n",
       "      <td>NaN</td>\n",
       "      <td>NaN</td>\n",
       "      <td>NaN</td>\n",
       "      <td>Paperback</td>\n",
       "      <td>Books</td>\n",
       "      <td>NaN</td>\n",
       "      <td>NaN</td>\n",
       "      <td>...</td>\n",
       "      <td>Seller will accept returns within a 15 days fr...</td>\n",
       "      <td>NaN</td>\n",
       "      <td>NaN</td>\n",
       "      <td>NaN</td>\n",
       "      <td>NaN</td>\n",
       "      <td>NaN</td>\n",
       "      <td>NaN</td>\n",
       "      <td>500 gm</td>\n",
       "      <td>NaN</td>\n",
       "      <td>NaN</td>\n",
       "    </tr>\n",
       "  </tbody>\n",
       "</table>\n",
       "<p>5 rows × 39 columns</p>\n",
       "</div>"
      ],
      "text/plain": [
       "  About the Author  Age Age wise Author Author Info           Authored By  \\\n",
       "0              NaN  NaN      NaN    NaN         NaN            Kay Hooper   \n",
       "1              NaN  NaN      NaN    NaN         NaN  Devaki Nandan Khatri   \n",
       "2              NaN  NaN      NaN    NaN         NaN             Tami Hoag   \n",
       "3              NaN  NaN      NaN    NaN         NaN        Danielle Steel   \n",
       "4              NaN  NaN      NaN    NaN         NaN                   NaN   \n",
       "\n",
       "     Binding                    Brand Dimensions (L X B X H) Edited By  \\\n",
       "0     Others                      NaN                    NaN       NaN   \n",
       "1  Paperback  Rupa Publications India                    NaN       NaN   \n",
       "2  Paperback             Random House                    NaN       NaN   \n",
       "3  Paperback    Transworld Publishers                    NaN       NaN   \n",
       "4  Paperback                    Books                    NaN       NaN   \n",
       "\n",
       "     ...                                          Return Policy Series Name  \\\n",
       "0    ...      Seller will accept returns within a 15 days fr...         NaN   \n",
       "1    ...      Seller will accept returns within a 15 days fr...         NaN   \n",
       "2    ...      Seller will accept returns within  7 days from...         NaN   \n",
       "3    ...      Seller will accept returns within a 15 days fr...         NaN   \n",
       "4    ...      Seller will accept returns within a 15 days fr...         NaN   \n",
       "\n",
       "  Shipping Charge Specialization Type University Warranty Summary  Weight  \\\n",
       "0             NaN            NaN  NaN        NaN              NaN     NaN   \n",
       "1             NaN            NaN  NaN        NaN              NaN     NaN   \n",
       "2             NaN            NaN  NaN        NaN              NaN  410 gm   \n",
       "3             NaN            NaN  NaN        NaN              NaN  381 gm   \n",
       "4             NaN            NaN  NaN        NaN              NaN  500 gm   \n",
       "\n",
       "  Weight(Gm) Weight(gm)  \n",
       "0        NaN        NaN  \n",
       "1        NaN        NaN  \n",
       "2        NaN        NaN  \n",
       "3        NaN        NaN  \n",
       "4        NaN        NaN  \n",
       "\n",
       "[5 rows x 39 columns]"
      ]
     },
     "execution_count": 103,
     "metadata": {},
     "output_type": "execute_result"
    }
   ],
   "source": [
    "books1.head()"
   ]
  },
  {
   "cell_type": "code",
   "execution_count": null,
   "metadata": {},
   "outputs": [],
   "source": []
  }
 ],
 "metadata": {
  "kernelspec": {
   "display_name": "Python 3",
   "language": "python",
   "name": "python3"
  },
  "language_info": {
   "codemirror_mode": {
    "name": "ipython",
    "version": 3
   },
   "file_extension": ".py",
   "mimetype": "text/x-python",
   "name": "python",
   "nbconvert_exporter": "python",
   "pygments_lexer": "ipython3",
   "version": "3.7.1"
  }
 },
 "nbformat": 4,
 "nbformat_minor": 2
}
